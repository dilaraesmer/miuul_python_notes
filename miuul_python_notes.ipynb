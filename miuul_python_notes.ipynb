{
  "nbformat": 4,
  "nbformat_minor": 0,
  "metadata": {
    "colab": {
      "provenance": []
    },
    "kernelspec": {
      "name": "python3",
      "display_name": "Python 3"
    },
    "language_info": {
      "name": "python"
    }
  },
  "cells": [
    {
      "cell_type": "code",
      "execution_count": 1,
      "metadata": {
        "colab": {
          "base_uri": "https://localhost:8080/"
        },
        "id": "yBtk9Ok7Txws",
        "outputId": "9c749f70-212d-4e7e-b594-8b7692cc52f0"
      },
      "outputs": [
        {
          "output_type": "stream",
          "name": "stdout",
          "text": [
            "Hello world\n"
          ]
        }
      ],
      "source": [
        "print(\"Hello world\")"
      ]
    },
    {
      "cell_type": "code",
      "source": [
        "print(\"Hello AI Era\")"
      ],
      "metadata": {
        "colab": {
          "base_uri": "https://localhost:8080/"
        },
        "id": "742p757JUDMb",
        "outputId": "fb48ad38-766b-4168-c08f-0103b871ae12"
      },
      "execution_count": 2,
      "outputs": [
        {
          "output_type": "stream",
          "name": "stdout",
          "text": [
            "Hello AI Era\n"
          ]
        }
      ]
    },
    {
      "cell_type": "code",
      "source": [
        "type(9)"
      ],
      "metadata": {
        "colab": {
          "base_uri": "https://localhost:8080/"
        },
        "id": "hfxxIrclUtIh",
        "outputId": "bb82779c-86b8-43b8-b4c1-fdd6772fabd7"
      },
      "execution_count": 3,
      "outputs": [
        {
          "output_type": "execute_result",
          "data": {
            "text/plain": [
              "int"
            ]
          },
          "metadata": {},
          "execution_count": 3
        }
      ]
    },
    {
      "cell_type": "code",
      "source": [
        "type(9.2)"
      ],
      "metadata": {
        "colab": {
          "base_uri": "https://localhost:8080/"
        },
        "id": "LFf93FdRUw3o",
        "outputId": "2103da17-f0d8-4882-bf05-2351cc78d637"
      },
      "execution_count": 4,
      "outputs": [
        {
          "output_type": "execute_result",
          "data": {
            "text/plain": [
              "float"
            ]
          },
          "metadata": {},
          "execution_count": 4
        }
      ]
    },
    {
      "cell_type": "code",
      "source": [
        "5==4"
      ],
      "metadata": {
        "colab": {
          "base_uri": "https://localhost:8080/"
        },
        "id": "vTgM-6S5dSb4",
        "outputId": "dfb8bef8-80c4-48a7-9484-a72300938f4c"
      },
      "execution_count": 5,
      "outputs": [
        {
          "output_type": "execute_result",
          "data": {
            "text/plain": [
              "False"
            ]
          },
          "metadata": {},
          "execution_count": 5
        }
      ]
    },
    {
      "cell_type": "code",
      "source": [
        "x = [\"btc\",\"etc\",\"dsl\"]\n",
        "type(x)"
      ],
      "metadata": {
        "colab": {
          "base_uri": "https://localhost:8080/"
        },
        "id": "Le4r3e5sdg4Z",
        "outputId": "b1be499d-71fb-4e9f-bf07-3915ceb17d35"
      },
      "execution_count": 6,
      "outputs": [
        {
          "output_type": "execute_result",
          "data": {
            "text/plain": [
              "list"
            ]
          },
          "metadata": {},
          "execution_count": 6
        }
      ]
    },
    {
      "cell_type": "code",
      "source": [
        "x = {\"name\": \"Peter\", \"Age\": 24}\n",
        "type(x)"
      ],
      "metadata": {
        "colab": {
          "base_uri": "https://localhost:8080/"
        },
        "id": "CmEudl69dub3",
        "outputId": "46c1b140-27c7-45d8-ebc5-df77df8534c6"
      },
      "execution_count": null,
      "outputs": [
        {
          "output_type": "execute_result",
          "data": {
            "text/plain": [
              "dict"
            ]
          },
          "metadata": {},
          "execution_count": 7
        }
      ]
    },
    {
      "cell_type": "code",
      "source": [
        "x = (\"T\", \"R\")\n",
        "type(x)"
      ],
      "metadata": {
        "colab": {
          "base_uri": "https://localhost:8080/"
        },
        "id": "U5I9Vw5seNv8",
        "outputId": "4a55a79b-2178-49f1-88bc-667c2fbdd305"
      },
      "execution_count": 7,
      "outputs": [
        {
          "output_type": "execute_result",
          "data": {
            "text/plain": [
              "tuple"
            ]
          },
          "metadata": {},
          "execution_count": 7
        }
      ]
    },
    {
      "cell_type": "code",
      "source": [
        "dir(int)"
      ],
      "metadata": {
        "colab": {
          "base_uri": "https://localhost:8080/"
        },
        "id": "DLbFZplHh0j0",
        "outputId": "25f76c88-8997-4d82-863c-010cf63ea588"
      },
      "execution_count": 8,
      "outputs": [
        {
          "output_type": "execute_result",
          "data": {
            "text/plain": [
              "['__abs__',\n",
              " '__add__',\n",
              " '__and__',\n",
              " '__bool__',\n",
              " '__ceil__',\n",
              " '__class__',\n",
              " '__delattr__',\n",
              " '__dir__',\n",
              " '__divmod__',\n",
              " '__doc__',\n",
              " '__eq__',\n",
              " '__float__',\n",
              " '__floor__',\n",
              " '__floordiv__',\n",
              " '__format__',\n",
              " '__ge__',\n",
              " '__getattribute__',\n",
              " '__getnewargs__',\n",
              " '__gt__',\n",
              " '__hash__',\n",
              " '__index__',\n",
              " '__init__',\n",
              " '__init_subclass__',\n",
              " '__int__',\n",
              " '__invert__',\n",
              " '__le__',\n",
              " '__lshift__',\n",
              " '__lt__',\n",
              " '__mod__',\n",
              " '__mul__',\n",
              " '__ne__',\n",
              " '__neg__',\n",
              " '__new__',\n",
              " '__or__',\n",
              " '__pos__',\n",
              " '__pow__',\n",
              " '__radd__',\n",
              " '__rand__',\n",
              " '__rdivmod__',\n",
              " '__reduce__',\n",
              " '__reduce_ex__',\n",
              " '__repr__',\n",
              " '__rfloordiv__',\n",
              " '__rlshift__',\n",
              " '__rmod__',\n",
              " '__rmul__',\n",
              " '__ror__',\n",
              " '__round__',\n",
              " '__rpow__',\n",
              " '__rrshift__',\n",
              " '__rshift__',\n",
              " '__rsub__',\n",
              " '__rtruediv__',\n",
              " '__rxor__',\n",
              " '__setattr__',\n",
              " '__sizeof__',\n",
              " '__str__',\n",
              " '__sub__',\n",
              " '__subclasshook__',\n",
              " '__truediv__',\n",
              " '__trunc__',\n",
              " '__xor__',\n",
              " 'bit_length',\n",
              " 'conjugate',\n",
              " 'denominator',\n",
              " 'from_bytes',\n",
              " 'imag',\n",
              " 'numerator',\n",
              " 'real',\n",
              " 'to_bytes']"
            ]
          },
          "metadata": {},
          "execution_count": 8
        }
      ]
    },
    {
      "cell_type": "code",
      "source": [
        "len(\"dilara esmer\")"
      ],
      "metadata": {
        "colab": {
          "base_uri": "https://localhost:8080/"
        },
        "id": "dyC__7hTiToU",
        "outputId": "0b9a0250-23cf-415d-8632-0e2884c9a895"
      },
      "execution_count": 9,
      "outputs": [
        {
          "output_type": "execute_result",
          "data": {
            "text/plain": [
              "12"
            ]
          },
          "metadata": {},
          "execution_count": 9
        }
      ]
    },
    {
      "cell_type": "code",
      "source": [
        "\"miuul\".upper()"
      ],
      "metadata": {
        "colab": {
          "base_uri": "https://localhost:8080/",
          "height": 35
        },
        "id": "39O3VC0fi1i0",
        "outputId": "156f55fb-5a19-46fe-b77a-1a68bcfa7c9a"
      },
      "execution_count": 10,
      "outputs": [
        {
          "output_type": "execute_result",
          "data": {
            "text/plain": [
              "'MIUUL'"
            ],
            "application/vnd.google.colaboratory.intrinsic+json": {
              "type": "string"
            }
          },
          "metadata": {},
          "execution_count": 10
        }
      ]
    },
    {
      "cell_type": "code",
      "source": [
        "\"MIUUL\".lower()"
      ],
      "metadata": {
        "colab": {
          "base_uri": "https://localhost:8080/",
          "height": 35
        },
        "id": "Nc7SCW-Di95a",
        "outputId": "96104032-4aa8-4408-e684-3573d1b758fc"
      },
      "execution_count": 11,
      "outputs": [
        {
          "output_type": "execute_result",
          "data": {
            "text/plain": [
              "'miuul'"
            ],
            "application/vnd.google.colaboratory.intrinsic+json": {
              "type": "string"
            }
          },
          "metadata": {},
          "execution_count": 11
        }
      ]
    },
    {
      "cell_type": "code",
      "source": [
        "hi = \"Hello AI Era\"\n",
        "hi.replace(\"l\", \"p\")"
      ],
      "metadata": {
        "colab": {
          "base_uri": "https://localhost:8080/",
          "height": 35
        },
        "id": "vcYXo6tfkChQ",
        "outputId": "d3d5c838-fee0-4301-a7e5-62e4e0f3996d"
      },
      "execution_count": 12,
      "outputs": [
        {
          "output_type": "execute_result",
          "data": {
            "text/plain": [
              "'Heppo AI Era'"
            ],
            "application/vnd.google.colaboratory.intrinsic+json": {
              "type": "string"
            }
          },
          "metadata": {},
          "execution_count": 12
        }
      ]
    },
    {
      "cell_type": "code",
      "source": [
        "\"Hello AI Era\".split()"
      ],
      "metadata": {
        "colab": {
          "base_uri": "https://localhost:8080/"
        },
        "id": "nzZMT3GFkT_K",
        "outputId": "fbd9eaaf-0922-4fbf-aed9-10294cd71d12"
      },
      "execution_count": 13,
      "outputs": [
        {
          "output_type": "execute_result",
          "data": {
            "text/plain": [
              "['Hello', 'AI', 'Era']"
            ]
          },
          "metadata": {},
          "execution_count": 13
        }
      ]
    },
    {
      "cell_type": "code",
      "source": [
        "notes = [1,2,3,4]\n",
        "type(notes)"
      ],
      "metadata": {
        "colab": {
          "base_uri": "https://localhost:8080/"
        },
        "id": "gRnr10_2kf0a",
        "outputId": "7c82f18a-7767-4d14-e3e5-bc03ae86065a"
      },
      "execution_count": 14,
      "outputs": [
        {
          "output_type": "execute_result",
          "data": {
            "text/plain": [
              "list"
            ]
          },
          "metadata": {},
          "execution_count": 14
        }
      ]
    },
    {
      "cell_type": "code",
      "source": [
        "len(notes)"
      ],
      "metadata": {
        "colab": {
          "base_uri": "https://localhost:8080/"
        },
        "id": "57DyZb5FmtOI",
        "outputId": "ac411e18-05ac-43c4-e2f9-e04b136f3592"
      },
      "execution_count": 15,
      "outputs": [
        {
          "output_type": "execute_result",
          "data": {
            "text/plain": [
              "4"
            ]
          },
          "metadata": {},
          "execution_count": 15
        }
      ]
    },
    {
      "cell_type": "code",
      "source": [
        "dictionary = {\"REG\": \"Regression\"}"
      ],
      "metadata": {
        "id": "CPBDqDFynyEq"
      },
      "execution_count": 16,
      "outputs": []
    },
    {
      "cell_type": "code",
      "source": [
        "dictionary[\"REG\"]"
      ],
      "metadata": {
        "colab": {
          "base_uri": "https://localhost:8080/",
          "height": 35
        },
        "id": "ejadYXwZn5u2",
        "outputId": "a609427a-6716-482a-9900-4b37ea0e3629"
      },
      "execution_count": 17,
      "outputs": [
        {
          "output_type": "execute_result",
          "data": {
            "text/plain": [
              "'Regression'"
            ],
            "application/vnd.google.colaboratory.intrinsic+json": {
              "type": "string"
            }
          },
          "metadata": {},
          "execution_count": 17
        }
      ]
    },
    {
      "cell_type": "code",
      "source": [
        "set1 = ([1,2,3])\n",
        "type(set1)"
      ],
      "metadata": {
        "colab": {
          "base_uri": "https://localhost:8080/"
        },
        "id": "lUh4S33Eq4C9",
        "outputId": "8c16aceb-273b-4706-ee7c-cf20be9135bd"
      },
      "execution_count": 18,
      "outputs": [
        {
          "output_type": "execute_result",
          "data": {
            "text/plain": [
              "list"
            ]
          },
          "metadata": {},
          "execution_count": 18
        }
      ]
    },
    {
      "cell_type": "code",
      "source": [
        "set1 = set([1,2,3])\n",
        "type(set1)"
      ],
      "metadata": {
        "colab": {
          "base_uri": "https://localhost:8080/"
        },
        "id": "a2sFsCBFrD3L",
        "outputId": "a92aff05-7c38-48db-cc9f-6ce45f35b072"
      },
      "execution_count": 19,
      "outputs": [
        {
          "output_type": "execute_result",
          "data": {
            "text/plain": [
              "set"
            ]
          },
          "metadata": {},
          "execution_count": 19
        }
      ]
    },
    {
      "cell_type": "code",
      "source": [
        "set2 = set([1,2,5])\n",
        "set1.difference(set2)"
      ],
      "metadata": {
        "colab": {
          "base_uri": "https://localhost:8080/"
        },
        "id": "BUQ-YNp1rLMk",
        "outputId": "8bde63e0-9714-41e1-cfc5-49d3b80cb096"
      },
      "execution_count": 20,
      "outputs": [
        {
          "output_type": "execute_result",
          "data": {
            "text/plain": [
              "{3}"
            ]
          },
          "metadata": {},
          "execution_count": 20
        }
      ]
    },
    {
      "cell_type": "code",
      "source": [
        "print(\"a\",\"b\",\"---\")"
      ],
      "metadata": {
        "colab": {
          "base_uri": "https://localhost:8080/"
        },
        "id": "XN87pNNzu1pH",
        "outputId": "0b124132-050b-4a19-96a7-4a93c339ca97"
      },
      "execution_count": 21,
      "outputs": [
        {
          "output_type": "stream",
          "name": "stdout",
          "text": [
            "a b ---\n"
          ]
        }
      ]
    },
    {
      "cell_type": "code",
      "source": [
        "print(\"a\",\"b\",sep=\"---\")"
      ],
      "metadata": {
        "colab": {
          "base_uri": "https://localhost:8080/"
        },
        "id": "tKwMOPMYu-ye",
        "outputId": "7b4729c3-b2de-465c-b50a-9b83aa84124f"
      },
      "execution_count": 22,
      "outputs": [
        {
          "output_type": "stream",
          "name": "stdout",
          "text": [
            "a---b\n"
          ]
        }
      ]
    },
    {
      "cell_type": "code",
      "source": [
        "def calculate(x):\n",
        "  print(x*2)"
      ],
      "metadata": {
        "id": "qZG3yPllvREP"
      },
      "execution_count": 23,
      "outputs": []
    },
    {
      "cell_type": "code",
      "source": [
        "calculate(5)"
      ],
      "metadata": {
        "colab": {
          "base_uri": "https://localhost:8080/"
        },
        "id": "3i4xv4Obvpzw",
        "outputId": "8da9bc64-a2f3-4592-b747-8c769f02537f"
      },
      "execution_count": 24,
      "outputs": [
        {
          "output_type": "stream",
          "name": "stdout",
          "text": [
            "10\n"
          ]
        }
      ]
    },
    {
      "cell_type": "code",
      "source": [
        "def summer(arg1, arg2):\n",
        "  print(arg1+arg2)\n",
        "  print(summer(7,8))"
      ],
      "metadata": {
        "id": "ql2R-NdMv-v5"
      },
      "execution_count": 25,
      "outputs": []
    },
    {
      "cell_type": "code",
      "source": [
        "def say_hi(string):\n",
        "  print()\n",
        "  print(\"Hi\")\n",
        "  print(\"Hello\")\n"
      ],
      "metadata": {
        "id": "GS9sUdJXxhYB"
      },
      "execution_count": 26,
      "outputs": []
    },
    {
      "cell_type": "code",
      "source": [
        "say_hi(\"miuul\")"
      ],
      "metadata": {
        "colab": {
          "base_uri": "https://localhost:8080/"
        },
        "id": "F6gRZLDrxhdZ",
        "outputId": "f83e7e1a-6ff6-4c7c-bd00-84c034d45841"
      },
      "execution_count": 27,
      "outputs": [
        {
          "output_type": "stream",
          "name": "stdout",
          "text": [
            "\n",
            "Hi\n",
            "Hello\n"
          ]
        }
      ]
    },
    {
      "cell_type": "code",
      "source": [
        "def multiplication(a, b):\n",
        "                   c= a*b\n",
        "                   print(c)"
      ],
      "metadata": {
        "id": "_TczomJuzX_R"
      },
      "execution_count": 28,
      "outputs": []
    },
    {
      "cell_type": "code",
      "source": [
        "multiplication(3,7)"
      ],
      "metadata": {
        "colab": {
          "base_uri": "https://localhost:8080/"
        },
        "id": "_rqsO9u2zoWN",
        "outputId": "8ecae20a-6b1e-4792-d203-3e2b106e980c"
      },
      "execution_count": 29,
      "outputs": [
        {
          "output_type": "stream",
          "name": "stdout",
          "text": [
            "21\n"
          ]
        }
      ]
    },
    {
      "cell_type": "code",
      "source": [
        "list_store = []"
      ],
      "metadata": {
        "id": "HoxqFWUuzvuB"
      },
      "execution_count": 30,
      "outputs": []
    },
    {
      "cell_type": "code",
      "source": [
        "def add_element(a,b):\n",
        "  c=a*b\n",
        "  list_store.append(c)\n",
        "  print(list_store)"
      ],
      "metadata": {
        "id": "qLDJYqziz55l"
      },
      "execution_count": 31,
      "outputs": []
    },
    {
      "cell_type": "code",
      "source": [
        "add_element(2,7)"
      ],
      "metadata": {
        "colab": {
          "base_uri": "https://localhost:8080/"
        },
        "id": "5t7kJPs_0Nyn",
        "outputId": "332bbf3b-e82e-4f6c-af45-b8e85adc035d"
      },
      "execution_count": 32,
      "outputs": [
        {
          "output_type": "stream",
          "name": "stdout",
          "text": [
            "[14]\n"
          ]
        }
      ]
    },
    {
      "cell_type": "code",
      "source": [
        "def calculate(warm, moisture, charge):\n",
        "  print((warm+moisture)/charge)\n",
        "  y = calculate(98,12,78)\n",
        "  print(y)"
      ],
      "metadata": {
        "id": "YxqOw09f2Osa"
      },
      "execution_count": 33,
      "outputs": []
    },
    {
      "cell_type": "code",
      "source": [
        " def standardization(a, p):\n",
        "   return a  * 10 / 100 * p * p\n",
        "   standardization(45,1)"
      ],
      "metadata": {
        "id": "JCV5nTI53WgY"
      },
      "execution_count": 34,
      "outputs": []
    },
    {
      "cell_type": "code",
      "source": [
        "def standardization(warm, moisture, charge, a, p):\n",
        "  print(calculate(warm, moisture, charge))\n",
        "  b=standardization(a,p)\n",
        "  print(b*10)"
      ],
      "metadata": {
        "id": "5yyPbXiM6PP9"
      },
      "execution_count": 35,
      "outputs": []
    },
    {
      "cell_type": "code",
      "source": [
        "if 1==1:\n",
        "  print(\"something\")"
      ],
      "metadata": {
        "colab": {
          "base_uri": "https://localhost:8080/"
        },
        "id": "NwqgRlPINhHS",
        "outputId": "39dec6af-6805-4c6b-caf0-a21ee111dbb2"
      },
      "execution_count": 36,
      "outputs": [
        {
          "output_type": "stream",
          "name": "stdout",
          "text": [
            "something\n"
          ]
        }
      ]
    },
    {
      "cell_type": "code",
      "source": [
        "if 1==2:\n",
        "  print(\"something\")"
      ],
      "metadata": {
        "id": "SO0CT_4iNztY"
      },
      "execution_count": 37,
      "outputs": []
    },
    {
      "cell_type": "code",
      "source": [
        "number=10\n",
        "if number == 10:\n",
        "  print(\"number is 10\")"
      ],
      "metadata": {
        "colab": {
          "base_uri": "https://localhost:8080/"
        },
        "id": "Za8W0nKjN4pl",
        "outputId": "2fd074fb-96fe-4fa8-8a70-e8b4b1f692f8"
      },
      "execution_count": 38,
      "outputs": [
        {
          "output_type": "stream",
          "name": "stdout",
          "text": [
            "number is 10\n"
          ]
        }
      ]
    },
    {
      "cell_type": "code",
      "source": [
        "def number_check(number):\n",
        "  if number== 10: \n",
        "    print(\"number is 10\")\n",
        "  else:\n",
        "      print(\"number is not 10\")"
      ],
      "metadata": {
        "id": "RBrOT7mdOoHC"
      },
      "execution_count": 39,
      "outputs": []
    },
    {
      "cell_type": "code",
      "source": [
        "number_check(12)"
      ],
      "metadata": {
        "colab": {
          "base_uri": "https://localhost:8080/"
        },
        "id": "ZbtNWfu5O95k",
        "outputId": "0ff6f747-423f-458e-a2f2-3b27b11fa626"
      },
      "execution_count": 40,
      "outputs": [
        {
          "output_type": "stream",
          "name": "stdout",
          "text": [
            "number is not 10\n"
          ]
        }
      ]
    },
    {
      "cell_type": "code",
      "source": [
        "def number_check(number):\n",
        "  if number > 10:\n",
        "    print(\"greater than 10\")\n",
        "  elif number < 10:\n",
        "    print(\"less than 10\")\n",
        "  else:\n",
        "    print(\"equal to 10\")"
      ],
      "metadata": {
        "id": "K2gMK8QJPtz4"
      },
      "execution_count": 41,
      "outputs": []
    },
    {
      "cell_type": "code",
      "source": [
        "number_check(12)"
      ],
      "metadata": {
        "colab": {
          "base_uri": "https://localhost:8080/"
        },
        "id": "zTho_DTTQSiz",
        "outputId": "160ab1b8-290b-4ca2-81bd-f8c4c1bf752f"
      },
      "execution_count": 42,
      "outputs": [
        {
          "output_type": "stream",
          "name": "stdout",
          "text": [
            "greater than 10\n"
          ]
        }
      ]
    },
    {
      "cell_type": "code",
      "source": [
        "students = [\"Jhon\", \"Mark\", \"Venessa\", \"Mariam\"]\n",
        "students"
      ],
      "metadata": {
        "colab": {
          "base_uri": "https://localhost:8080/"
        },
        "id": "z6GbkC-lQfvo",
        "outputId": "32f724b5-3888-46af-d791-b70fdada0567"
      },
      "execution_count": 43,
      "outputs": [
        {
          "output_type": "execute_result",
          "data": {
            "text/plain": [
              "['Jhon', 'Mark', 'Venessa', 'Mariam']"
            ]
          },
          "metadata": {},
          "execution_count": 43
        }
      ]
    },
    {
      "cell_type": "code",
      "source": [
        "for student in students:\n",
        "  print(student)\n"
      ],
      "metadata": {
        "colab": {
          "base_uri": "https://localhost:8080/"
        },
        "id": "o-prOhJiRAUK",
        "outputId": "1f620bf9-da9c-4022-f97e-a2e880ea1b2b"
      },
      "execution_count": 44,
      "outputs": [
        {
          "output_type": "stream",
          "name": "stdout",
          "text": [
            "Jhon\n",
            "Mark\n",
            "Venessa\n",
            "Mariam\n"
          ]
        }
      ]
    },
    {
      "cell_type": "code",
      "source": [
        "for student in students:\n",
        "  print(student.upper())"
      ],
      "metadata": {
        "colab": {
          "base_uri": "https://localhost:8080/"
        },
        "id": "_R6sheUbRcFN",
        "outputId": "cd0d3d42-a04a-4107-b2b3-db88f623d5be"
      },
      "execution_count": 45,
      "outputs": [
        {
          "output_type": "stream",
          "name": "stdout",
          "text": [
            "JHON\n",
            "MARK\n",
            "VENESSA\n",
            "MARIAM\n"
          ]
        }
      ]
    },
    {
      "cell_type": "code",
      "source": [
        "salaries = [1000, 2000, 3000, 4000, 5000]"
      ],
      "metadata": {
        "id": "NC3TlXw6RoHh"
      },
      "execution_count": 46,
      "outputs": []
    },
    {
      "cell_type": "code",
      "source": [
        "for salary in salaries:\n",
        "  print(salary)\n"
      ],
      "metadata": {
        "colab": {
          "base_uri": "https://localhost:8080/"
        },
        "id": "aSH5is1KRyMi",
        "outputId": "27026de5-a52a-4eaf-b453-c0380c4f3ad4"
      },
      "execution_count": 47,
      "outputs": [
        {
          "output_type": "stream",
          "name": "stdout",
          "text": [
            "1000\n",
            "2000\n",
            "3000\n",
            "4000\n",
            "5000\n"
          ]
        }
      ]
    },
    {
      "cell_type": "code",
      "source": [
        "for salary in salaries:\n",
        "  print(salary*20/100 + salary)"
      ],
      "metadata": {
        "colab": {
          "base_uri": "https://localhost:8080/"
        },
        "id": "L_k3gueoSJv9",
        "outputId": "cf3d0685-73bc-4376-bd57-03553837da06"
      },
      "execution_count": 48,
      "outputs": [
        {
          "output_type": "stream",
          "name": "stdout",
          "text": [
            "1200.0\n",
            "2400.0\n",
            "3600.0\n",
            "4800.0\n",
            "6000.0\n"
          ]
        }
      ]
    },
    {
      "cell_type": "code",
      "source": [
        "for salary in salaries:\n",
        "  print(int(salary*20/100 + salary))"
      ],
      "metadata": {
        "colab": {
          "base_uri": "https://localhost:8080/"
        },
        "id": "IKeUX_5gSaTb",
        "outputId": "845c3ffa-bd4f-4a2d-fc83-56a320fba0bb"
      },
      "execution_count": 49,
      "outputs": [
        {
          "output_type": "stream",
          "name": "stdout",
          "text": [
            "1200\n",
            "2400\n",
            "3600\n",
            "4800\n",
            "6000\n"
          ]
        }
      ]
    },
    {
      "cell_type": "code",
      "source": [
        "for salary in salaries:\n",
        "  print(int(salary*50/100 + salary))"
      ],
      "metadata": {
        "colab": {
          "base_uri": "https://localhost:8080/"
        },
        "id": "V87s62E0Ser2",
        "outputId": "5c9077f0-ef38-40ee-8077-7cb68881448f"
      },
      "execution_count": 50,
      "outputs": [
        {
          "output_type": "stream",
          "name": "stdout",
          "text": [
            "1500\n",
            "3000\n",
            "4500\n",
            "6000\n",
            "7500\n"
          ]
        }
      ]
    },
    {
      "cell_type": "code",
      "source": [
        "def new_salary(salary, rate):\n",
        "  return int(salary*rate/100 + salary)"
      ],
      "metadata": {
        "id": "8p8hRZaySshj"
      },
      "execution_count": 51,
      "outputs": []
    },
    {
      "cell_type": "code",
      "source": [
        "new_salary(1500, 10)"
      ],
      "metadata": {
        "colab": {
          "base_uri": "https://localhost:8080/"
        },
        "id": "EzvVkrHKS9-Y",
        "outputId": "885bb6aa-7ba9-49c6-a7ca-a3adb0048a59"
      },
      "execution_count": 52,
      "outputs": [
        {
          "output_type": "execute_result",
          "data": {
            "text/plain": [
              "1650"
            ]
          },
          "metadata": {},
          "execution_count": 52
        }
      ]
    },
    {
      "cell_type": "code",
      "source": [
        "new_salary(2000, 10)"
      ],
      "metadata": {
        "colab": {
          "base_uri": "https://localhost:8080/"
        },
        "id": "S_9DBDBKTD5I",
        "outputId": "2cca2d0a-0a30-4bb1-cee2-d44dfc767513"
      },
      "execution_count": 55,
      "outputs": [
        {
          "output_type": "execute_result",
          "data": {
            "text/plain": [
              "2200"
            ]
          },
          "metadata": {},
          "execution_count": 55
        }
      ]
    },
    {
      "cell_type": "code",
      "source": [
        "for salary in salaries:\n",
        "  print(new_salary(salary, 10))"
      ],
      "metadata": {
        "colab": {
          "base_uri": "https://localhost:8080/"
        },
        "id": "ze7GtxlyTV1E",
        "outputId": "27519d4c-26cf-4943-b64a-a99c5f773800"
      },
      "execution_count": 53,
      "outputs": [
        {
          "output_type": "stream",
          "name": "stdout",
          "text": [
            "1100\n",
            "2200\n",
            "3300\n",
            "4400\n",
            "5500\n"
          ]
        }
      ]
    },
    {
      "cell_type": "code",
      "source": [
        "salaries2 = [10700, 25000, 30400, 40300, 50200]"
      ],
      "metadata": {
        "id": "jrHO-KJoTwiS"
      },
      "execution_count": 54,
      "outputs": []
    },
    {
      "cell_type": "code",
      "source": [
        "for salary in salaries2:\n",
        "  print(new_salary(salary, 20))"
      ],
      "metadata": {
        "colab": {
          "base_uri": "https://localhost:8080/"
        },
        "id": "eYG9StiAUBdp",
        "outputId": "47b77e36-a2de-4978-a8d6-aaefaffb2750"
      },
      "execution_count": 56,
      "outputs": [
        {
          "output_type": "stream",
          "name": "stdout",
          "text": [
            "12840\n",
            "30000\n",
            "36480\n",
            "48360\n",
            "60240\n"
          ]
        }
      ]
    },
    {
      "cell_type": "code",
      "source": [
        "for salary in salaries:\n",
        "  if salary >= 3000:\n",
        "   print(new_salary(salary, 10))\n",
        "  else: \n",
        "   print(new_salary(salary, 20))"
      ],
      "metadata": {
        "colab": {
          "base_uri": "https://localhost:8080/"
        },
        "id": "zjJkPjE8UZ-L",
        "outputId": "a1daa7cd-dbce-4b09-d478-d44f14a336e1"
      },
      "execution_count": 57,
      "outputs": [
        {
          "output_type": "stream",
          "name": "stdout",
          "text": [
            "1200\n",
            "2400\n",
            "3300\n",
            "4400\n",
            "5500\n"
          ]
        }
      ]
    },
    {
      "cell_type": "code",
      "source": [
        "range(len(\"miuul\"))\n",
        "range(0,5)\n",
        "for i in range(0,5):\n",
        "   print(i)"
      ],
      "metadata": {
        "colab": {
          "base_uri": "https://localhost:8080/"
        },
        "id": "Y26d-jCPVqFe",
        "outputId": "27826d9d-41fd-49c4-bf21-1018b41ce5b9"
      },
      "execution_count": 58,
      "outputs": [
        {
          "output_type": "stream",
          "name": "stdout",
          "text": [
            "0\n",
            "1\n",
            "2\n",
            "3\n",
            "4\n"
          ]
        }
      ]
    },
    {
      "cell_type": "code",
      "source": [
        "def alternating(string):\n",
        "  new_string=\"\"\n",
        "  for string_index in range(len(string)):\n",
        "    if string_index % 2 == 0:\n",
        "     new_string += string[string_index].upper()\n",
        "    else: \n",
        "     new_string += string[string_index].lower()\n",
        "    print(new_string)"
      ],
      "metadata": {
        "id": "NdLkrlKbWwOm"
      },
      "execution_count": 59,
      "outputs": []
    },
    {
      "cell_type": "code",
      "source": [
        "\"miuul\"[1].lower()"
      ],
      "metadata": {
        "colab": {
          "base_uri": "https://localhost:8080/",
          "height": 35
        },
        "id": "x-WM_NUeYRMi",
        "outputId": "9c25e72e-dfd7-472a-ddca-5801bce32de0"
      },
      "execution_count": 60,
      "outputs": [
        {
          "output_type": "execute_result",
          "data": {
            "text/plain": [
              "'i'"
            ],
            "application/vnd.google.colaboratory.intrinsic+json": {
              "type": "string"
            }
          },
          "metadata": {},
          "execution_count": 60
        }
      ]
    },
    {
      "cell_type": "code",
      "source": [
        "alternating(\"miuul\")"
      ],
      "metadata": {
        "colab": {
          "base_uri": "https://localhost:8080/"
        },
        "id": "AIywAf4XZCLf",
        "outputId": "c3259e4b-25b4-4bc6-837d-f8f669bea6cc"
      },
      "execution_count": 61,
      "outputs": [
        {
          "output_type": "stream",
          "name": "stdout",
          "text": [
            "M\n",
            "Mi\n",
            "MiU\n",
            "MiUu\n",
            "MiUuL\n"
          ]
        }
      ]
    },
    {
      "cell_type": "code",
      "source": [
        "salaries = [1000,2000,3000,4000,5000]\n",
        "for salary in salaries:\n",
        "  if salary == 3000:\n",
        "    break\n",
        "    print(salary)\n"
      ],
      "metadata": {
        "id": "jpEHkvN6oCBt"
      },
      "execution_count": 62,
      "outputs": []
    },
    {
      "cell_type": "code",
      "source": [
        "salaries = [1000,2000,3000,4000,5000]\n",
        "for salary in salaries:\n",
        "  if salary == 3000:\n",
        "    continue\n",
        "    print(salary)\n"
      ],
      "metadata": {
        "id": "2ZJKD1oAooVd"
      },
      "execution_count": 63,
      "outputs": []
    },
    {
      "cell_type": "code",
      "source": [
        "number = 1\n",
        "while number < 5:\n",
        "  print(number)\n",
        "  number += 1"
      ],
      "metadata": {
        "colab": {
          "base_uri": "https://localhost:8080/"
        },
        "id": "gW-dT-BHo8H7",
        "outputId": "7fb5e745-2d6a-4d6e-cb02-12d01e1b58dc"
      },
      "execution_count": 64,
      "outputs": [
        {
          "output_type": "stream",
          "name": "stdout",
          "text": [
            "1\n",
            "2\n",
            "3\n",
            "4\n"
          ]
        }
      ]
    },
    {
      "cell_type": "code",
      "source": [
        "students = [\"Jhon\", \"Mark\", \"Venessa\", \"Mariam\"]\n",
        "for student in students:\n",
        "  print(student)\n",
        "for index, student in enumerate(students):\n",
        "  print(index,student)\n",
        "\n"
      ],
      "metadata": {
        "colab": {
          "base_uri": "https://localhost:8080/"
        },
        "id": "cj9MIFBwo8N2",
        "outputId": "52a2384c-0896-444c-f164-240ed56fbe87"
      },
      "execution_count": 65,
      "outputs": [
        {
          "output_type": "stream",
          "name": "stdout",
          "text": [
            "Jhon\n",
            "Mark\n",
            "Venessa\n",
            "Mariam\n",
            "0 Jhon\n",
            "1 Mark\n",
            "2 Venessa\n",
            "3 Mariam\n"
          ]
        }
      ]
    },
    {
      "cell_type": "code",
      "source": [
        "A = []\n",
        "B = []\n",
        "\n",
        "for index, student in enumerate(students):\n",
        "  if index % 2 == 0:\n",
        "    A.append(student)\n",
        "  else:\n",
        "    B.append(student)\n",
        "  print(index,student)"
      ],
      "metadata": {
        "colab": {
          "base_uri": "https://localhost:8080/"
        },
        "id": "o5vH35RXq0zR",
        "outputId": "a909fc58-fd54-4acc-c7c0-4901e5bae873"
      },
      "execution_count": 66,
      "outputs": [
        {
          "output_type": "stream",
          "name": "stdout",
          "text": [
            "0 Jhon\n",
            "1 Mark\n",
            "2 Venessa\n",
            "3 Mariam\n"
          ]
        }
      ]
    },
    {
      "cell_type": "code",
      "source": [
        "students = [\"Jhon\", \"Mark\", \"Venessa\", \"Mariam\"]"
      ],
      "metadata": {
        "id": "H1dGCJ8bEf1Y"
      },
      "execution_count": 67,
      "outputs": []
    },
    {
      "cell_type": "code",
      "source": [
        "def divide_students(students):\n",
        "  groups = [[], []]\n",
        "  for index, student in enumerate(students):\n",
        "    if index % 2 == 0:\n",
        "      groups[0].append(student)\n",
        "    else:\n",
        "      groups[1].append(student)\n",
        "      print(groups)\n",
        "      return groups\n",
        "      \n"
      ],
      "metadata": {
        "id": "mGF_a2ZGE1Sw"
      },
      "execution_count": 68,
      "outputs": []
    },
    {
      "cell_type": "code",
      "source": [
        "st = divide_students(students)\n",
        "st[0]"
      ],
      "metadata": {
        "colab": {
          "base_uri": "https://localhost:8080/"
        },
        "id": "Q21LmPa2F0oN",
        "outputId": "6813c1e7-e13b-47e2-ef89-220fbac8637c"
      },
      "execution_count": 69,
      "outputs": [
        {
          "output_type": "stream",
          "name": "stdout",
          "text": [
            "[['Jhon'], ['Mark']]\n"
          ]
        },
        {
          "output_type": "execute_result",
          "data": {
            "text/plain": [
              "['Jhon']"
            ]
          },
          "metadata": {},
          "execution_count": 69
        }
      ]
    },
    {
      "cell_type": "code",
      "source": [
        "st[1]"
      ],
      "metadata": {
        "colab": {
          "base_uri": "https://localhost:8080/"
        },
        "id": "REmND6K7GEQl",
        "outputId": "4c9937b4-6a71-4b67-faef-4cbebfe5f2fc"
      },
      "execution_count": 70,
      "outputs": [
        {
          "output_type": "execute_result",
          "data": {
            "text/plain": [
              "['Mark']"
            ]
          },
          "metadata": {},
          "execution_count": 70
        }
      ]
    },
    {
      "cell_type": "code",
      "source": [
        "def alternating_with_enumerate(string):\n",
        "  new_string = \"\"\n",
        "  for i, letter in enumerate(string):\n",
        "    if i % 2 == 0:\n",
        "      new_string += letter.upper()\n",
        "    else:\n",
        "        new_string += letter.lower()\n",
        "    print(new_string)\n",
        "    alternating_with_enumerate(\"hi my name is dilara and i am learning python\")"
      ],
      "metadata": {
        "id": "rQXbPWnHGWZX"
      },
      "execution_count": 71,
      "outputs": []
    },
    {
      "cell_type": "code",
      "source": [
        "students = [\"John\", \"Mark\", \"Venessa\", \"Mariam\"]\n",
        "departments = [\"mathematics\", \"statistics\", \"physics\", \"astronomy\"]\n",
        "ages = [\"23\", \"30\",\"24\", \"22\"]"
      ],
      "metadata": {
        "id": "l2C0dvnzIWT2"
      },
      "execution_count": 72,
      "outputs": []
    },
    {
      "cell_type": "code",
      "source": [
        "list(zip(students, departments, ages))"
      ],
      "metadata": {
        "colab": {
          "base_uri": "https://localhost:8080/"
        },
        "id": "NIBs-4TkJP-H",
        "outputId": "a9849e8c-2e14-4bae-afcb-e16bc68d183a"
      },
      "execution_count": 73,
      "outputs": [
        {
          "output_type": "execute_result",
          "data": {
            "text/plain": [
              "[('John', 'mathematics', '23'),\n",
              " ('Mark', 'statistics', '30'),\n",
              " ('Venessa', 'physics', '24'),\n",
              " ('Mariam', 'astronomy', '22')]"
            ]
          },
          "metadata": {},
          "execution_count": 73
        }
      ]
    },
    {
      "cell_type": "code",
      "source": [
        "def summer(a,b):\n",
        "  return a + b \n",
        "  summer(1,3)*9\n",
        "  new_sum = lambda a, b: a + b\n",
        "  new_sum(10,2)"
      ],
      "metadata": {
        "id": "NtjN--CzKT_u"
      },
      "execution_count": 74,
      "outputs": []
    },
    {
      "cell_type": "code",
      "source": [
        "salaries = [1000, 2000, 3000, 4000, 5000]\n",
        "def new_salary(x):\n",
        "  return x * 20 / 100 + x\n",
        "\n",
        "  new_salary(5000)\n",
        "\n",
        "  for salary in salaries:\n",
        "    print(new_salary(salary))\n",
        "\n",
        "    list(map(new_salary, salaries))"
      ],
      "metadata": {
        "id": "qdf1eOTLLAQq"
      },
      "execution_count": 75,
      "outputs": []
    },
    {
      "cell_type": "code",
      "source": [
        "list(map(lambda x: x * 20 / 100 + x, salaries))\n"
      ],
      "metadata": {
        "colab": {
          "base_uri": "https://localhost:8080/"
        },
        "id": "R4nvaR2dOnLz",
        "outputId": "61070423-65d1-47ba-e443-53b7d70aa6fe"
      },
      "execution_count": 76,
      "outputs": [
        {
          "output_type": "execute_result",
          "data": {
            "text/plain": [
              "[1200.0, 2400.0, 3600.0, 4800.0, 6000.0]"
            ]
          },
          "metadata": {},
          "execution_count": 76
        }
      ]
    },
    {
      "cell_type": "code",
      "source": [
        "list(map(lambda x: x ** 2, salaries))"
      ],
      "metadata": {
        "colab": {
          "base_uri": "https://localhost:8080/"
        },
        "id": "J6WDVrqQPDzh",
        "outputId": "0e351979-47b8-49e8-cac5-38a07cf52c8f"
      },
      "execution_count": 77,
      "outputs": [
        {
          "output_type": "execute_result",
          "data": {
            "text/plain": [
              "[1000000, 4000000, 9000000, 16000000, 25000000]"
            ]
          },
          "metadata": {},
          "execution_count": 77
        }
      ]
    },
    {
      "cell_type": "code",
      "source": [
        "list_store = [1,2,3,4,5,6,7,8,9,10]\n",
        "list(filter(lambda x: x % 2 == 0, list_store))"
      ],
      "metadata": {
        "colab": {
          "base_uri": "https://localhost:8080/"
        },
        "id": "vS6SoaguPNzF",
        "outputId": "982c6ee3-535f-4edc-8f89-0b50a0e0a10c"
      },
      "execution_count": 78,
      "outputs": [
        {
          "output_type": "execute_result",
          "data": {
            "text/plain": [
              "[2, 4, 6, 8, 10]"
            ]
          },
          "metadata": {},
          "execution_count": 78
        }
      ]
    },
    {
      "cell_type": "code",
      "source": [
        "from functools import reduce\n",
        "list_store = [1,2,3,4]\n",
        "reduce(lambda a, b: a + b, list_store)"
      ],
      "metadata": {
        "colab": {
          "base_uri": "https://localhost:8080/"
        },
        "id": "nLp1N5NLPYoj",
        "outputId": "d5dffd8a-bc17-41c2-e67e-30b6a2e07e1f"
      },
      "execution_count": 79,
      "outputs": [
        {
          "output_type": "execute_result",
          "data": {
            "text/plain": [
              "10"
            ]
          },
          "metadata": {},
          "execution_count": 79
        }
      ]
    },
    {
      "cell_type": "code",
      "source": [
        "wages = [10,20,30,40,50]\n",
        "new_wages = []\n",
        "\n",
        "for wage in wages:\n",
        "  if wage < 40:\n",
        "    new_w = wage * 1.10\n",
        "    new_wages.append(new_w)\n",
        "  else:\n",
        "    new_wages.append(wage)\n",
        "\n",
        "    print(new_wages)"
      ],
      "metadata": {
        "id": "lw_asDlDSSTL",
        "colab": {
          "base_uri": "https://localhost:8080/"
        },
        "outputId": "3d71173a-afbd-45e9-ad00-e4f9b188899e"
      },
      "execution_count": 84,
      "outputs": [
        {
          "output_type": "stream",
          "name": "stdout",
          "text": [
            "[11.0, 22.0, 33.0, 40]\n",
            "[11.0, 22.0, 33.0, 40, 50]\n"
          ]
        }
      ]
    },
    {
      "cell_type": "code",
      "source": [
        "wages = [700, 800, 900, 1000]\n",
        "[wage*1.1 if wage > 950 else wage*1.2 for wage in wages]"
      ],
      "metadata": {
        "colab": {
          "base_uri": "https://localhost:8080/"
        },
        "id": "VKkVpbzh_uIo",
        "outputId": "1ba5f86f-37b8-4887-8b33-8b8b52dc4d45"
      },
      "execution_count": 85,
      "outputs": [
        {
          "output_type": "execute_result",
          "data": {
            "text/plain": [
              "[840.0, 960.0, 1080.0, 1100.0]"
            ]
          },
          "metadata": {},
          "execution_count": 85
        }
      ]
    },
    {
      "cell_type": "code",
      "source": [
        "students = [\"Denise\", \"Arsen\", \"Tony\", \"Audrey\"]\n",
        "[student[2].upper() if len(student) % 2 == 0 else \n",
        " student[2].lower() for student in students]"
      ],
      "metadata": {
        "colab": {
          "base_uri": "https://localhost:8080/"
        },
        "id": "rsnXk1RqAiIk",
        "outputId": "8ce7a76b-d14c-4e6a-fe83-fb17182c8802"
      },
      "execution_count": 87,
      "outputs": [
        {
          "output_type": "execute_result",
          "data": {
            "text/plain": [
              "['N', 's', 'N', 'D']"
            ]
          },
          "metadata": {},
          "execution_count": 87
        }
      ]
    },
    {
      "cell_type": "code",
      "source": [
        "city_name = [\"Londan\", \"Paris\", \"Berlin\"]\n",
        "\n",
        "def plate(cities):\n",
        "  for index in city in enumerate(cities,1):\n",
        "    print(f\"{index} : {city}\")\n",
        "    plate(city_name)\n"
      ],
      "metadata": {
        "id": "GzTx6HnfCbVd"
      },
      "execution_count": 96,
      "outputs": []
    }
  ]
}