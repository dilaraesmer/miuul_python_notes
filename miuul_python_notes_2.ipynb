{
  "nbformat": 4,
  "nbformat_minor": 0,
  "metadata": {
    "colab": {
      "provenance": [],
      "authorship_tag": "ABX9TyOuwQSw84ytqPZhTGLWtuWz",
      "include_colab_link": true
    },
    "kernelspec": {
      "name": "python3",
      "display_name": "Python 3"
    },
    "language_info": {
      "name": "python"
    }
  },
  "cells": [
    {
      "cell_type": "markdown",
      "metadata": {
        "id": "view-in-github",
        "colab_type": "text"
      },
      "source": [
        "<a href=\"https://colab.research.google.com/github/dilaraesmer/miuul_python_notes/blob/main/miuul_python_notes_2.ipynb\" target=\"_parent\"><img src=\"https://colab.research.google.com/assets/colab-badge.svg\" alt=\"Open In Colab\"/></a>"
      ]
    },
    {
      "cell_type": "markdown",
      "source": [
        "List Comprehension"
      ],
      "metadata": {
        "id": "YJUjPyM4_RbL"
      }
    },
    {
      "cell_type": "code",
      "execution_count": 1,
      "metadata": {
        "colab": {
          "base_uri": "https://localhost:8080/"
        },
        "id": "WUas-fIe_LPA",
        "outputId": "8156afa0-2d3d-4115-e99c-7b684aa85bcd"
      },
      "outputs": [
        {
          "output_type": "stream",
          "name": "stdout",
          "text": [
            "['levent', 'melih', 'melis']\n"
          ]
        }
      ],
      "source": [
        "name = [\"funda\", \"levent\", \"melih\", \"melis\", \"dilara\"]\n",
        "newlist = []\n",
        "\n",
        "for x in name:\n",
        "  if \"e\" in x:\n",
        "    newlist.append(x)\n",
        "\n",
        "print(newlist)"
      ]
    },
    {
      "cell_type": "code",
      "source": [
        "salaries = [1000,2000,3000,4000,5000]\n",
        "def new_salary(x):\n",
        " return x * 20 / 100 + x\n",
        "null_list = []\n",
        "for salary in salaries:\n",
        "  if salary > 3000:\n",
        "    null_list.append(new_salary(salary))\n",
        "else:\n",
        "  null_list.append(new_salary(salary * 2))\n"
      ],
      "metadata": {
        "id": "BVV8rRfgA5ya"
      },
      "execution_count": 2,
      "outputs": []
    },
    {
      "cell_type": "code",
      "source": [
        "[new_salary(salary * 2) if salary < 3000 else new_salary(salary) for salary in salaries]"
      ],
      "metadata": {
        "colab": {
          "base_uri": "https://localhost:8080/"
        },
        "id": "gACfYSCUDgjF",
        "outputId": "874c1e88-1ca6-4937-ad19-2fee233d0d5d"
      },
      "execution_count": 3,
      "outputs": [
        {
          "output_type": "execute_result",
          "data": {
            "text/plain": [
              "[2400.0, 4800.0, 3600.0, 4800.0, 6000.0]"
            ]
          },
          "metadata": {},
          "execution_count": 3
        }
      ]
    },
    {
      "cell_type": "code",
      "source": [
        "[salary * 2 for salary in salaries]"
      ],
      "metadata": {
        "colab": {
          "base_uri": "https://localhost:8080/"
        },
        "id": "xNaqvTIYEgRl",
        "outputId": "d8c4f415-8734-49ff-e91b-addfdbcaaac8"
      },
      "execution_count": 4,
      "outputs": [
        {
          "output_type": "execute_result",
          "data": {
            "text/plain": [
              "[2000, 4000, 6000, 8000, 10000]"
            ]
          },
          "metadata": {},
          "execution_count": 4
        }
      ]
    },
    {
      "cell_type": "code",
      "source": [
        "[salary * 2 for salary in salaries if salary < 3000]"
      ],
      "metadata": {
        "colab": {
          "base_uri": "https://localhost:8080/"
        },
        "id": "9aKPGxPIEyn9",
        "outputId": "4a6664ea-0039-4751-b08f-5759a18d7cc0"
      },
      "execution_count": 5,
      "outputs": [
        {
          "output_type": "execute_result",
          "data": {
            "text/plain": [
              "[2000, 4000]"
            ]
          },
          "metadata": {},
          "execution_count": 5
        }
      ]
    },
    {
      "cell_type": "code",
      "source": [
        "[salary * 2 if salary < 3000 else salary * 0 for salary in salaries ]"
      ],
      "metadata": {
        "colab": {
          "base_uri": "https://localhost:8080/"
        },
        "outputId": "0efdb7d4-d0a2-4300-9bc7-667df4b195c5",
        "id": "Miut-1Y0FE6h"
      },
      "execution_count": 6,
      "outputs": [
        {
          "output_type": "execute_result",
          "data": {
            "text/plain": [
              "[2000, 4000, 0, 0, 0]"
            ]
          },
          "metadata": {},
          "execution_count": 6
        }
      ]
    },
    {
      "cell_type": "code",
      "source": [
        "[new_salary(salary * 2) if salary < 3000 else new_salary(salary * 0.2) for salary in salaries]"
      ],
      "metadata": {
        "colab": {
          "base_uri": "https://localhost:8080/"
        },
        "id": "0x97Sj13FEZE",
        "outputId": "6093dbad-4f35-4d46-9279-e31a61f2e7da"
      },
      "execution_count": 7,
      "outputs": [
        {
          "output_type": "execute_result",
          "data": {
            "text/plain": [
              "[2400.0, 4800.0, 720.0, 960.0, 1200.0]"
            ]
          },
          "metadata": {},
          "execution_count": 7
        }
      ]
    },
    {
      "cell_type": "code",
      "source": [
        "students = [\"Merve\", \"Defne\", \"Okan\", \"Emek\"]\n",
        "\n",
        "students_no = [\"Okan\", \"Defne\"]\n",
        "\n",
        "[student.upper() if student in students_no else student.lower() for student in students]"
      ],
      "metadata": {
        "colab": {
          "base_uri": "https://localhost:8080/"
        },
        "id": "djF8rwPZGZZS",
        "outputId": "3d474b0a-8b7f-487c-9b14-b3ca26df06c8"
      },
      "execution_count": 8,
      "outputs": [
        {
          "output_type": "execute_result",
          "data": {
            "text/plain": [
              "['merve', 'DEFNE', 'OKAN', 'emek']"
            ]
          },
          "metadata": {},
          "execution_count": 8
        }
      ]
    },
    {
      "cell_type": "code",
      "source": [
        "dictionary = {'a': 1,\n",
        "              'b': 2,\n",
        "              'c': 3,\n",
        "              'd': 4}\n",
        "\n",
        "dictionary.keys()\n",
        "dictionary.values()\n",
        "dictionary.items()"
      ],
      "metadata": {
        "colab": {
          "base_uri": "https://localhost:8080/"
        },
        "id": "u5F62GBh76EM",
        "outputId": "5a606ef9-7931-4d21-9a43-68b0e2b9e77e"
      },
      "execution_count": 9,
      "outputs": [
        {
          "output_type": "execute_result",
          "data": {
            "text/plain": [
              "dict_items([('a', 1), ('b', 2), ('c', 3), ('d', 4)])"
            ]
          },
          "metadata": {},
          "execution_count": 9
        }
      ]
    },
    {
      "cell_type": "code",
      "source": [
        "{k: v ** 2 for (k,v) in dictionary.items()}"
      ],
      "metadata": {
        "colab": {
          "base_uri": "https://localhost:8080/"
        },
        "id": "MRq1iazv9KUG",
        "outputId": "bc8c89b4-5153-4f9f-b15e-78fbda06d6e5"
      },
      "execution_count": 10,
      "outputs": [
        {
          "output_type": "execute_result",
          "data": {
            "text/plain": [
              "{'a': 1, 'b': 4, 'c': 9, 'd': 16}"
            ]
          },
          "metadata": {},
          "execution_count": 10
        }
      ]
    },
    {
      "cell_type": "code",
      "source": [
        "{k.upper(): v for (k,v) in dictionary.items()}"
      ],
      "metadata": {
        "colab": {
          "base_uri": "https://localhost:8080/"
        },
        "id": "FBuG9t_x9g7K",
        "outputId": "85dbeca5-c914-4262-c0e7-738811d30528"
      },
      "execution_count": 11,
      "outputs": [
        {
          "output_type": "execute_result",
          "data": {
            "text/plain": [
              "{'A': 1, 'B': 2, 'C': 3, 'D': 4}"
            ]
          },
          "metadata": {},
          "execution_count": 11
        }
      ]
    },
    {
      "cell_type": "code",
      "source": [
        "{k.upper(): v ** 2 for (k,v) in dictionary.items()}"
      ],
      "metadata": {
        "colab": {
          "base_uri": "https://localhost:8080/"
        },
        "id": "zIzWe9kC-BOC",
        "outputId": "1881d663-ed17-4940-b483-32f1bf04be17"
      },
      "execution_count": 12,
      "outputs": [
        {
          "output_type": "execute_result",
          "data": {
            "text/plain": [
              "{'A': 1, 'B': 4, 'C': 9, 'D': 16}"
            ]
          },
          "metadata": {},
          "execution_count": 12
        }
      ]
    },
    {
      "cell_type": "code",
      "source": [
        "{k.lower(): v ** 3 for (k,v) in dictionary.items()}"
      ],
      "metadata": {
        "colab": {
          "base_uri": "https://localhost:8080/"
        },
        "id": "mLXT0Tqs-P7t",
        "outputId": "806c9e98-a4ff-4a26-a153-05fe76f56220"
      },
      "execution_count": 13,
      "outputs": [
        {
          "output_type": "execute_result",
          "data": {
            "text/plain": [
              "{'a': 1, 'b': 8, 'c': 27, 'd': 64}"
            ]
          },
          "metadata": {},
          "execution_count": 13
        }
      ]
    },
    {
      "cell_type": "code",
      "source": [
        "numbers = range(10)\n",
        "new_dict = {}\n",
        "\n",
        "for n in numbers:\n",
        "  if n % 2 == 0:\n",
        "    new_dict[n] = n ** 2\n",
        "    print(new_dict)"
      ],
      "metadata": {
        "colab": {
          "base_uri": "https://localhost:8080/"
        },
        "id": "1fGZQdK3-tQ2",
        "outputId": "0b560bb3-1e66-4a74-d279-3aafccd40af9"
      },
      "execution_count": 14,
      "outputs": [
        {
          "output_type": "stream",
          "name": "stdout",
          "text": [
            "{0: 0}\n",
            "{0: 0, 2: 4}\n",
            "{0: 0, 2: 4, 4: 16}\n",
            "{0: 0, 2: 4, 4: 16, 6: 36}\n",
            "{0: 0, 2: 4, 4: 16, 6: 36, 8: 64}\n"
          ]
        }
      ]
    },
    {
      "cell_type": "code",
      "source": [
        "{n: n ** 2 for n in numbers if n % 2 == 0}"
      ],
      "metadata": {
        "colab": {
          "base_uri": "https://localhost:8080/"
        },
        "id": "DPtgW3qMAhd-",
        "outputId": "962c2a9d-4deb-4c80-b995-7b9c3df65eca"
      },
      "execution_count": 15,
      "outputs": [
        {
          "output_type": "execute_result",
          "data": {
            "text/plain": [
              "{0: 0, 2: 4, 4: 16, 6: 36, 8: 64}"
            ]
          },
          "metadata": {},
          "execution_count": 15
        }
      ]
    },
    {
      "cell_type": "code",
      "source": [
        "import seaborn as sns \n",
        "df = sns.load_dataset(\"car_crashes\")\n",
        "df.columns"
      ],
      "metadata": {
        "colab": {
          "base_uri": "https://localhost:8080/"
        },
        "id": "3PT0ICmFBZrh",
        "outputId": "415bf9fb-380b-4715-9a8b-db60d5b6e9d4"
      },
      "execution_count": 16,
      "outputs": [
        {
          "output_type": "execute_result",
          "data": {
            "text/plain": [
              "Index(['total', 'speeding', 'alcohol', 'not_distracted', 'no_previous',\n",
              "       'ins_premium', 'ins_losses', 'abbrev'],\n",
              "      dtype='object')"
            ]
          },
          "metadata": {},
          "execution_count": 16
        }
      ]
    },
    {
      "cell_type": "code",
      "source": [
        "for col in df.columns:\n",
        "  print(col.upper())"
      ],
      "metadata": {
        "colab": {
          "base_uri": "https://localhost:8080/"
        },
        "id": "Aah4URtHCsTq",
        "outputId": "6616e888-d75d-4a2d-ede6-d3426ba3d0ce"
      },
      "execution_count": 17,
      "outputs": [
        {
          "output_type": "stream",
          "name": "stdout",
          "text": [
            "TOTAL\n",
            "SPEEDING\n",
            "ALCOHOL\n",
            "NOT_DISTRACTED\n",
            "NO_PREVIOUS\n",
            "INS_PREMIUM\n",
            "INS_LOSSES\n",
            "ABBREV\n"
          ]
        }
      ]
    },
    {
      "cell_type": "code",
      "source": [
        "A = []\n",
        "for col in df.columns:\n",
        "  A.append(col.upper())\n",
        "A"
      ],
      "metadata": {
        "colab": {
          "base_uri": "https://localhost:8080/"
        },
        "id": "K-1PkPlTC61L",
        "outputId": "d09e1549-2563-4b51-f64d-cb2ea232b86e"
      },
      "execution_count": 18,
      "outputs": [
        {
          "output_type": "execute_result",
          "data": {
            "text/plain": [
              "['TOTAL',\n",
              " 'SPEEDING',\n",
              " 'ALCOHOL',\n",
              " 'NOT_DISTRACTED',\n",
              " 'NO_PREVIOUS',\n",
              " 'INS_PREMIUM',\n",
              " 'INS_LOSSES',\n",
              " 'ABBREV']"
            ]
          },
          "metadata": {},
          "execution_count": 18
        }
      ]
    },
    {
      "cell_type": "code",
      "source": [
        "df.columns = A"
      ],
      "metadata": {
        "id": "i6Y-u-E2Div9"
      },
      "execution_count": 19,
      "outputs": []
    },
    {
      "cell_type": "code",
      "source": [
        "A"
      ],
      "metadata": {
        "colab": {
          "base_uri": "https://localhost:8080/"
        },
        "id": "u3JkJ8N0DpF4",
        "outputId": "d78ceb58-d081-40e0-dc31-a57d73bac9ad"
      },
      "execution_count": 20,
      "outputs": [
        {
          "output_type": "execute_result",
          "data": {
            "text/plain": [
              "['TOTAL',\n",
              " 'SPEEDING',\n",
              " 'ALCOHOL',\n",
              " 'NOT_DISTRACTED',\n",
              " 'NO_PREVIOUS',\n",
              " 'INS_PREMIUM',\n",
              " 'INS_LOSSES',\n",
              " 'ABBREV']"
            ]
          },
          "metadata": {},
          "execution_count": 20
        }
      ]
    },
    {
      "cell_type": "code",
      "source": [
        "df = sns.load_dataset(\"car_crashes\")\n",
        "df.columns = [col.upper() for col in df.columns]\n",
        "df.columns"
      ],
      "metadata": {
        "colab": {
          "base_uri": "https://localhost:8080/"
        },
        "id": "MyqtrlWhEEwJ",
        "outputId": "79e04527-58b0-498c-9e0b-bb92f3d4b1b9"
      },
      "execution_count": 22,
      "outputs": [
        {
          "output_type": "execute_result",
          "data": {
            "text/plain": [
              "Index(['TOTAL', 'SPEEDING', 'ALCOHOL', 'NOT_DISTRACTED', 'NO_PREVIOUS',\n",
              "       'INS_PREMIUM', 'INS_LOSSES', 'ABBREV'],\n",
              "      dtype='object')"
            ]
          },
          "metadata": {},
          "execution_count": 22
        }
      ]
    },
    {
      "cell_type": "code",
      "source": [
        "[col for col in df.columns if \"INS\" in col]"
      ],
      "metadata": {
        "colab": {
          "base_uri": "https://localhost:8080/"
        },
        "id": "y-jL2v85ErNn",
        "outputId": "9586d071-3488-4137-b62f-0ab286c9775d"
      },
      "execution_count": 21,
      "outputs": [
        {
          "output_type": "execute_result",
          "data": {
            "text/plain": [
              "['INS_PREMIUM', 'INS_LOSSES']"
            ]
          },
          "metadata": {},
          "execution_count": 21
        }
      ]
    },
    {
      "cell_type": "code",
      "source": [
        "[\"FLAG_\" + col for col in df.columns if \"INS\" in col]"
      ],
      "metadata": {
        "colab": {
          "base_uri": "https://localhost:8080/"
        },
        "id": "-cBdMEzIFFiv",
        "outputId": "91d06842-8fe8-4425-c2c3-6540e94c9643"
      },
      "execution_count": 23,
      "outputs": [
        {
          "output_type": "execute_result",
          "data": {
            "text/plain": [
              "['FLAG_INS_PREMIUM', 'FLAG_INS_LOSSES']"
            ]
          },
          "metadata": {},
          "execution_count": 23
        }
      ]
    },
    {
      "cell_type": "code",
      "source": [
        "[\"FLAG_\" + col if \"INS\" in col else \"NO_FLAG_\" + col for col in df.columns]"
      ],
      "metadata": {
        "colab": {
          "base_uri": "https://localhost:8080/"
        },
        "id": "5rCjeciIFkjO",
        "outputId": "8e7cc790-cb62-4206-b435-df7317a0817b"
      },
      "execution_count": 24,
      "outputs": [
        {
          "output_type": "execute_result",
          "data": {
            "text/plain": [
              "['NO_FLAG_TOTAL',\n",
              " 'NO_FLAG_SPEEDING',\n",
              " 'NO_FLAG_ALCOHOL',\n",
              " 'NO_FLAG_NOT_DISTRACTED',\n",
              " 'NO_FLAG_NO_PREVIOUS',\n",
              " 'FLAG_INS_PREMIUM',\n",
              " 'FLAG_INS_LOSSES',\n",
              " 'NO_FLAG_ABBREV']"
            ]
          },
          "metadata": {},
          "execution_count": 24
        }
      ]
    },
    {
      "cell_type": "code",
      "source": [
        "num_cols = [col for col in df.columns if df[col].dtype != \"O\"]\n",
        "num_cols"
      ],
      "metadata": {
        "colab": {
          "base_uri": "https://localhost:8080/"
        },
        "id": "baj3_bDiGw29",
        "outputId": "f9cb9a38-f1c4-4fc1-8a99-012a41ff8a9a"
      },
      "execution_count": 25,
      "outputs": [
        {
          "output_type": "execute_result",
          "data": {
            "text/plain": [
              "['TOTAL',\n",
              " 'SPEEDING',\n",
              " 'ALCOHOL',\n",
              " 'NOT_DISTRACTED',\n",
              " 'NO_PREVIOUS',\n",
              " 'INS_PREMIUM',\n",
              " 'INS_LOSSES']"
            ]
          },
          "metadata": {},
          "execution_count": 25
        }
      ]
    },
    {
      "cell_type": "code",
      "source": [
        "num_cols = [col for col in df.columns if df[col].dtype == \"O\"]\n",
        "num_cols"
      ],
      "metadata": {
        "colab": {
          "base_uri": "https://localhost:8080/"
        },
        "id": "j1BDuXV9H1VQ",
        "outputId": "3f4ad200-259a-4b11-d5f4-478a911dbe14"
      },
      "execution_count": 26,
      "outputs": [
        {
          "output_type": "execute_result",
          "data": {
            "text/plain": [
              "['ABBREV']"
            ]
          },
          "metadata": {},
          "execution_count": 26
        }
      ]
    },
    {
      "cell_type": "code",
      "source": [
        "num_cols = [col for col in df.columns if df[col].dtype != \"O\"]\n",
        "soz = {}\n",
        "agg_list = [\"mean\", \"min\", \"max\", \"sum\"]\n",
        "agg_list"
      ],
      "metadata": {
        "colab": {
          "base_uri": "https://localhost:8080/"
        },
        "id": "kDC6H9ASIG0J",
        "outputId": "e055bc94-6882-4934-e946-0bf637e561f0"
      },
      "execution_count": 27,
      "outputs": [
        {
          "output_type": "execute_result",
          "data": {
            "text/plain": [
              "['mean', 'min', 'max', 'sum']"
            ]
          },
          "metadata": {},
          "execution_count": 27
        }
      ]
    },
    {
      "cell_type": "code",
      "source": [
        "for col in num_cols:\n",
        "  soz[col] = agg_list"
      ],
      "metadata": {
        "id": "_Wh8lJl7JA0Z"
      },
      "execution_count": 28,
      "outputs": []
    },
    {
      "cell_type": "code",
      "source": [
        "soz"
      ],
      "metadata": {
        "colab": {
          "base_uri": "https://localhost:8080/"
        },
        "id": "3JLVcUYnJn8B",
        "outputId": "099fae4d-b951-4665-ad34-f03f502383b1"
      },
      "execution_count": 29,
      "outputs": [
        {
          "output_type": "execute_result",
          "data": {
            "text/plain": [
              "{'TOTAL': ['mean', 'min', 'max', 'sum'],\n",
              " 'SPEEDING': ['mean', 'min', 'max', 'sum'],\n",
              " 'ALCOHOL': ['mean', 'min', 'max', 'sum'],\n",
              " 'NOT_DISTRACTED': ['mean', 'min', 'max', 'sum'],\n",
              " 'NO_PREVIOUS': ['mean', 'min', 'max', 'sum'],\n",
              " 'INS_PREMIUM': ['mean', 'min', 'max', 'sum'],\n",
              " 'INS_LOSSES': ['mean', 'min', 'max', 'sum']}"
            ]
          },
          "metadata": {},
          "execution_count": 29
        }
      ]
    },
    {
      "cell_type": "code",
      "source": [
        "{col: agg_list for col in num_cols}"
      ],
      "metadata": {
        "colab": {
          "base_uri": "https://localhost:8080/"
        },
        "id": "4GvU2l-LJuj6",
        "outputId": "dec4d6f2-16a2-4391-aa2d-d5c005413acf"
      },
      "execution_count": 30,
      "outputs": [
        {
          "output_type": "execute_result",
          "data": {
            "text/plain": [
              "{'TOTAL': ['mean', 'min', 'max', 'sum'],\n",
              " 'SPEEDING': ['mean', 'min', 'max', 'sum'],\n",
              " 'ALCOHOL': ['mean', 'min', 'max', 'sum'],\n",
              " 'NOT_DISTRACTED': ['mean', 'min', 'max', 'sum'],\n",
              " 'NO_PREVIOUS': ['mean', 'min', 'max', 'sum'],\n",
              " 'INS_PREMIUM': ['mean', 'min', 'max', 'sum'],\n",
              " 'INS_LOSSES': ['mean', 'min', 'max', 'sum']}"
            ]
          },
          "metadata": {},
          "execution_count": 30
        }
      ]
    },
    {
      "cell_type": "code",
      "source": [
        "df[num_cols].head()"
      ],
      "metadata": {
        "colab": {
          "base_uri": "https://localhost:8080/",
          "height": 206
        },
        "id": "i9thQJGwK2nP",
        "outputId": "022b3bfc-3e0b-4a60-d0f1-088e9184201d"
      },
      "execution_count": 31,
      "outputs": [
        {
          "output_type": "execute_result",
          "data": {
            "text/plain": [
              "   TOTAL  SPEEDING  ALCOHOL  NOT_DISTRACTED  NO_PREVIOUS  INS_PREMIUM  \\\n",
              "0   18.8     7.332    5.640          18.048       15.040       784.55   \n",
              "1   18.1     7.421    4.525          16.290       17.014      1053.48   \n",
              "2   18.6     6.510    5.208          15.624       17.856       899.47   \n",
              "3   22.4     4.032    5.824          21.056       21.280       827.34   \n",
              "4   12.0     4.200    3.360          10.920       10.680       878.41   \n",
              "\n",
              "   INS_LOSSES  \n",
              "0      145.08  \n",
              "1      133.93  \n",
              "2      110.35  \n",
              "3      142.39  \n",
              "4      165.63  "
            ],
            "text/html": [
              "\n",
              "  <div id=\"df-1fdf1a15-7cb9-4ecb-a4da-3b37aa12d2e4\">\n",
              "    <div class=\"colab-df-container\">\n",
              "      <div>\n",
              "<style scoped>\n",
              "    .dataframe tbody tr th:only-of-type {\n",
              "        vertical-align: middle;\n",
              "    }\n",
              "\n",
              "    .dataframe tbody tr th {\n",
              "        vertical-align: top;\n",
              "    }\n",
              "\n",
              "    .dataframe thead th {\n",
              "        text-align: right;\n",
              "    }\n",
              "</style>\n",
              "<table border=\"1\" class=\"dataframe\">\n",
              "  <thead>\n",
              "    <tr style=\"text-align: right;\">\n",
              "      <th></th>\n",
              "      <th>TOTAL</th>\n",
              "      <th>SPEEDING</th>\n",
              "      <th>ALCOHOL</th>\n",
              "      <th>NOT_DISTRACTED</th>\n",
              "      <th>NO_PREVIOUS</th>\n",
              "      <th>INS_PREMIUM</th>\n",
              "      <th>INS_LOSSES</th>\n",
              "    </tr>\n",
              "  </thead>\n",
              "  <tbody>\n",
              "    <tr>\n",
              "      <th>0</th>\n",
              "      <td>18.8</td>\n",
              "      <td>7.332</td>\n",
              "      <td>5.640</td>\n",
              "      <td>18.048</td>\n",
              "      <td>15.040</td>\n",
              "      <td>784.55</td>\n",
              "      <td>145.08</td>\n",
              "    </tr>\n",
              "    <tr>\n",
              "      <th>1</th>\n",
              "      <td>18.1</td>\n",
              "      <td>7.421</td>\n",
              "      <td>4.525</td>\n",
              "      <td>16.290</td>\n",
              "      <td>17.014</td>\n",
              "      <td>1053.48</td>\n",
              "      <td>133.93</td>\n",
              "    </tr>\n",
              "    <tr>\n",
              "      <th>2</th>\n",
              "      <td>18.6</td>\n",
              "      <td>6.510</td>\n",
              "      <td>5.208</td>\n",
              "      <td>15.624</td>\n",
              "      <td>17.856</td>\n",
              "      <td>899.47</td>\n",
              "      <td>110.35</td>\n",
              "    </tr>\n",
              "    <tr>\n",
              "      <th>3</th>\n",
              "      <td>22.4</td>\n",
              "      <td>4.032</td>\n",
              "      <td>5.824</td>\n",
              "      <td>21.056</td>\n",
              "      <td>21.280</td>\n",
              "      <td>827.34</td>\n",
              "      <td>142.39</td>\n",
              "    </tr>\n",
              "    <tr>\n",
              "      <th>4</th>\n",
              "      <td>12.0</td>\n",
              "      <td>4.200</td>\n",
              "      <td>3.360</td>\n",
              "      <td>10.920</td>\n",
              "      <td>10.680</td>\n",
              "      <td>878.41</td>\n",
              "      <td>165.63</td>\n",
              "    </tr>\n",
              "  </tbody>\n",
              "</table>\n",
              "</div>\n",
              "      <button class=\"colab-df-convert\" onclick=\"convertToInteractive('df-1fdf1a15-7cb9-4ecb-a4da-3b37aa12d2e4')\"\n",
              "              title=\"Convert this dataframe to an interactive table.\"\n",
              "              style=\"display:none;\">\n",
              "        \n",
              "  <svg xmlns=\"http://www.w3.org/2000/svg\" height=\"24px\"viewBox=\"0 0 24 24\"\n",
              "       width=\"24px\">\n",
              "    <path d=\"M0 0h24v24H0V0z\" fill=\"none\"/>\n",
              "    <path d=\"M18.56 5.44l.94 2.06.94-2.06 2.06-.94-2.06-.94-.94-2.06-.94 2.06-2.06.94zm-11 1L8.5 8.5l.94-2.06 2.06-.94-2.06-.94L8.5 2.5l-.94 2.06-2.06.94zm10 10l.94 2.06.94-2.06 2.06-.94-2.06-.94-.94-2.06-.94 2.06-2.06.94z\"/><path d=\"M17.41 7.96l-1.37-1.37c-.4-.4-.92-.59-1.43-.59-.52 0-1.04.2-1.43.59L10.3 9.45l-7.72 7.72c-.78.78-.78 2.05 0 2.83L4 21.41c.39.39.9.59 1.41.59.51 0 1.02-.2 1.41-.59l7.78-7.78 2.81-2.81c.8-.78.8-2.07 0-2.86zM5.41 20L4 18.59l7.72-7.72 1.47 1.35L5.41 20z\"/>\n",
              "  </svg>\n",
              "      </button>\n",
              "      \n",
              "  <style>\n",
              "    .colab-df-container {\n",
              "      display:flex;\n",
              "      flex-wrap:wrap;\n",
              "      gap: 12px;\n",
              "    }\n",
              "\n",
              "    .colab-df-convert {\n",
              "      background-color: #E8F0FE;\n",
              "      border: none;\n",
              "      border-radius: 50%;\n",
              "      cursor: pointer;\n",
              "      display: none;\n",
              "      fill: #1967D2;\n",
              "      height: 32px;\n",
              "      padding: 0 0 0 0;\n",
              "      width: 32px;\n",
              "    }\n",
              "\n",
              "    .colab-df-convert:hover {\n",
              "      background-color: #E2EBFA;\n",
              "      box-shadow: 0px 1px 2px rgba(60, 64, 67, 0.3), 0px 1px 3px 1px rgba(60, 64, 67, 0.15);\n",
              "      fill: #174EA6;\n",
              "    }\n",
              "\n",
              "    [theme=dark] .colab-df-convert {\n",
              "      background-color: #3B4455;\n",
              "      fill: #D2E3FC;\n",
              "    }\n",
              "\n",
              "    [theme=dark] .colab-df-convert:hover {\n",
              "      background-color: #434B5C;\n",
              "      box-shadow: 0px 1px 3px 1px rgba(0, 0, 0, 0.15);\n",
              "      filter: drop-shadow(0px 1px 2px rgba(0, 0, 0, 0.3));\n",
              "      fill: #FFFFFF;\n",
              "    }\n",
              "  </style>\n",
              "\n",
              "      <script>\n",
              "        const buttonEl =\n",
              "          document.querySelector('#df-1fdf1a15-7cb9-4ecb-a4da-3b37aa12d2e4 button.colab-df-convert');\n",
              "        buttonEl.style.display =\n",
              "          google.colab.kernel.accessAllowed ? 'block' : 'none';\n",
              "\n",
              "        async function convertToInteractive(key) {\n",
              "          const element = document.querySelector('#df-1fdf1a15-7cb9-4ecb-a4da-3b37aa12d2e4');\n",
              "          const dataTable =\n",
              "            await google.colab.kernel.invokeFunction('convertToInteractive',\n",
              "                                                     [key], {});\n",
              "          if (!dataTable) return;\n",
              "\n",
              "          const docLinkHtml = 'Like what you see? Visit the ' +\n",
              "            '<a target=\"_blank\" href=https://colab.research.google.com/notebooks/data_table.ipynb>data table notebook</a>'\n",
              "            + ' to learn more about interactive tables.';\n",
              "          element.innerHTML = '';\n",
              "          dataTable['output_type'] = 'display_data';\n",
              "          await google.colab.output.renderOutput(dataTable, element);\n",
              "          const docLink = document.createElement('div');\n",
              "          docLink.innerHTML = docLinkHtml;\n",
              "          element.appendChild(docLink);\n",
              "        }\n",
              "      </script>\n",
              "    </div>\n",
              "  </div>\n",
              "  "
            ]
          },
          "metadata": {},
          "execution_count": 31
        }
      ]
    },
    {
      "cell_type": "code",
      "source": [
        "wages = [1000,2000,3000,4000,5000]\n",
        "new_wages = lambda x: x*0.20 + x\n",
        "list(map(new_wages, wages))"
      ],
      "metadata": {
        "colab": {
          "base_uri": "https://localhost:8080/"
        },
        "id": "CEx19z0ULtK-",
        "outputId": "b84a93c3-c7e4-4ea3-a1de-8e9f25cd6c8a"
      },
      "execution_count": 32,
      "outputs": [
        {
          "output_type": "execute_result",
          "data": {
            "text/plain": [
              "[1200.0, 2400.0, 3600.0, 4800.0, 6000.0]"
            ]
          },
          "metadata": {},
          "execution_count": 32
        }
      ]
    },
    {
      "cell_type": "code",
      "source": [
        "names = [\"deniz\", \"mercan\", \"azra\", \"meriç\"]\n",
        "ages = [20, 36, 25, 21]\n",
        "cities = [\"izmir\", \"eskişehir\", \"antalya\", \"çanakkale\"]\n",
        "\n",
        "list(zip(names, ages, cities))"
      ],
      "metadata": {
        "colab": {
          "base_uri": "https://localhost:8080/"
        },
        "id": "mXeV9lKYZOGo",
        "outputId": "c08e1e63-c2c6-4785-bb62-c4b5d24e74fd"
      },
      "execution_count": 33,
      "outputs": [
        {
          "output_type": "execute_result",
          "data": {
            "text/plain": [
              "[('deniz', 20, 'izmir'),\n",
              " ('mercan', 36, 'eskişehir'),\n",
              " ('azra', 25, 'antalya'),\n",
              " ('meriç', 21, 'çanakkale')]"
            ]
          },
          "metadata": {},
          "execution_count": 33
        }
      ]
    },
    {
      "cell_type": "code",
      "source": [
        "employees = [\"Emek\", \"Arsel\", \"Kemal\", \"Bülent\"]\n",
        "low  = lambda x: x[2].lower()\n",
        "print(list(map(low, employees)))"
      ],
      "metadata": {
        "colab": {
          "base_uri": "https://localhost:8080/"
        },
        "id": "23QFU5SrZ32T",
        "outputId": "2edf98f5-3812-4588-a115-da45304dfdcc"
      },
      "execution_count": 36,
      "outputs": [
        {
          "output_type": "stream",
          "name": "stdout",
          "text": [
            "['e', 's', 'm', 'l']\n"
          ]
        }
      ]
    },
    {
      "cell_type": "code",
      "source": [
        "dict_score = {\"Emek\":30, \"Arsel\": 37, \"Kemal\": 24, \"Bülent\": 59}\n",
        "new_dict = {k: v * 2 + 3 for (k,v) in dict_score.items()}\n",
        "new_dict"
      ],
      "metadata": {
        "colab": {
          "base_uri": "https://localhost:8080/"
        },
        "id": "k97TS3s_bHTV",
        "outputId": "9c0484f9-3284-4370-a47b-48e7a6849488"
      },
      "execution_count": 43,
      "outputs": [
        {
          "output_type": "execute_result",
          "data": {
            "text/plain": [
              "{'Emek': 63, 'Arsel': 77, 'Kemal': 51, 'Bülent': 121}"
            ]
          },
          "metadata": {},
          "execution_count": 43
        }
      ]
    },
    {
      "cell_type": "code",
      "source": [
        "numbers = range(1,20)\n",
        "{n: n ** 2 for n in numbers if n % 3 == 0}"
      ],
      "metadata": {
        "colab": {
          "base_uri": "https://localhost:8080/"
        },
        "id": "WhyPfkpgb6I1",
        "outputId": "fe91bda7-3dd7-414a-ef70-8147ff41acf5"
      },
      "execution_count": 46,
      "outputs": [
        {
          "output_type": "execute_result",
          "data": {
            "text/plain": [
              "{3: 9, 6: 36, 9: 81, 12: 144, 15: 225, 18: 324}"
            ]
          },
          "metadata": {},
          "execution_count": 46
        }
      ]
    }
  ]
}